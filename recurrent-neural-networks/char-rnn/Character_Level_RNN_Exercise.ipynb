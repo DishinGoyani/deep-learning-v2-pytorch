{
  "nbformat": 4,
  "nbformat_minor": 0,
  "metadata": {
    "kernelspec": {
      "name": "python3",
      "display_name": "Python 3"
    },
    "language_info": {
      "codemirror_mode": {
        "name": "ipython",
        "version": 3
      },
      "file_extension": ".py",
      "mimetype": "text/x-python",
      "name": "python",
      "nbconvert_exporter": "python",
      "pygments_lexer": "ipython3",
      "version": "3.6.4"
    },
    "colab": {
      "name": "Character_Level_RNN_Exercise.ipynb",
      "version": "0.3.2",
      "provenance": [],
      "toc_visible": true,
      "include_colab_link": true
    },
    "accelerator": "GPU"
  },
  "cells": [
    {
      "cell_type": "markdown",
      "metadata": {
        "id": "view-in-github",
        "colab_type": "text"
      },
      "source": [
        "<a href=\"https://colab.research.google.com/github/DishinGoyani/deep-learning-v2-pytorch/blob/master/recurrent-neural-networks/char-rnn/Character_Level_RNN_Exercise.ipynb\" target=\"_parent\"><img src=\"https://colab.research.google.com/assets/colab-badge.svg\" alt=\"Open In Colab\"/></a>"
      ]
    },
    {
      "cell_type": "markdown",
      "metadata": {
        "id": "6oDzL5zg_FbH",
        "colab_type": "text"
      },
      "source": [
        "# Character-Level LSTM in PyTorch\n",
        "\n",
        "In this notebook, I'll construct a character-level LSTM with PyTorch. The network will train character by character on some text, then generate new text character by character. As an example, I will train on Anna Karenina. **This model will be able to generate new text based on the text from the book!**\n",
        "\n",
        "This network is based off of Andrej Karpathy's [post on RNNs](http://karpathy.github.io/2015/05/21/rnn-effectiveness/) and [implementation in Torch](https://github.com/karpathy/char-rnn). Below is the general architecture of the character-wise RNN.\n",
        "\n",
        "<img src=\"https://github.com/DishinGoyani/deep-learning-v2-pytorch/blob/master/recurrent-neural-networks/char-rnn/assets/charseq.jpeg?raw=1\" width=\"500\">"
      ]
    },
    {
      "cell_type": "markdown",
      "metadata": {
        "id": "ZBS7l70F_FbV",
        "colab_type": "text"
      },
      "source": [
        "First let's load in our required resources for data loading and model creation."
      ]
    },
    {
      "cell_type": "code",
      "metadata": {
        "id": "v27TL45z_Fba",
        "colab_type": "code",
        "colab": {}
      },
      "source": [
        "import numpy as np\n",
        "import torch\n",
        "from torch import nn\n",
        "import torch.nn.functional as F"
      ],
      "execution_count": 0,
      "outputs": []
    },
    {
      "cell_type": "markdown",
      "metadata": {
        "id": "nJnYkoSl_Fb1",
        "colab_type": "text"
      },
      "source": [
        "## Load in Data\n",
        "\n",
        "Then, we'll load the Anna Karenina text file and convert it into integers for our network to use. "
      ]
    },
    {
      "cell_type": "code",
      "metadata": {
        "id": "mF1d3H-t_Fb6",
        "colab_type": "code",
        "colab": {}
      },
      "source": [
        "# open text file and read in data as `text`\n",
        "with open('anna.txt', 'r') as f:\n",
        "    text = f.read()"
      ],
      "execution_count": 0,
      "outputs": []
    },
    {
      "cell_type": "markdown",
      "metadata": {
        "id": "f_h_FmOy_FcL",
        "colab_type": "text"
      },
      "source": [
        "Let's check out the first 100 characters, make sure everything is peachy. According to the [American Book Review](http://americanbookreview.org/100bestlines.asp), this is the 6th best first line of a book ever."
      ]
    },
    {
      "cell_type": "code",
      "metadata": {
        "id": "pL30xKnI_FcQ",
        "colab_type": "code",
        "colab": {
          "base_uri": "https://localhost:8080/",
          "height": 54
        },
        "outputId": "a3951d55-2af2-425d-fcb3-9768592d81c8"
      },
      "source": [
        "text[:100]"
      ],
      "execution_count": 8,
      "outputs": [
        {
          "output_type": "execute_result",
          "data": {
            "text/plain": [
              "'Chapter 1\\n\\n\\nHappy families are all alike; every unhappy family is unhappy in its own\\nway.\\n\\nEverythin'"
            ]
          },
          "metadata": {
            "tags": []
          },
          "execution_count": 8
        }
      ]
    },
    {
      "cell_type": "markdown",
      "metadata": {
        "id": "cDSVHHki_Fck",
        "colab_type": "text"
      },
      "source": [
        "### Tokenization\n",
        "\n",
        "In the cells, below, I'm creating a couple **dictionaries** to convert the characters to and from integers. Encoding the characters as integers makes it easier to use as input in the network."
      ]
    },
    {
      "cell_type": "code",
      "metadata": {
        "id": "Y8b-amvC_Fcs",
        "colab_type": "code",
        "colab": {}
      },
      "source": [
        "# encode the text and map each character to an integer and vice versa\n",
        "\n",
        "# we create two dictionaries:\n",
        "# 1. int2char, which maps integers to characters\n",
        "# 2. char2int, which maps characters to unique integers\n",
        "chars = tuple(set(text))\n",
        "int2char = dict(enumerate(chars))\n",
        "char2int = {ch: ii for ii, ch in int2char.items()}\n",
        "\n",
        "# encode the text\n",
        "encoded = np.array([char2int[ch] for ch in text])"
      ],
      "execution_count": 0,
      "outputs": []
    },
    {
      "cell_type": "markdown",
      "metadata": {
        "id": "jQo2NtI9_Fc7",
        "colab_type": "text"
      },
      "source": [
        "And we can see those same characters from above, encoded as integers."
      ]
    },
    {
      "cell_type": "code",
      "metadata": {
        "id": "7CxJ4_Kk_FdB",
        "colab_type": "code",
        "colab": {
          "base_uri": "https://localhost:8080/",
          "height": 121
        },
        "outputId": "61e9faa2-d574-4c39-8a53-6700d727dd8d"
      },
      "source": [
        "encoded[:100]"
      ],
      "execution_count": 10,
      "outputs": [
        {
          "output_type": "execute_result",
          "data": {
            "text/plain": [
              "array([15, 69, 59, 42, 32, 39, 22, 76, 21, 19, 19, 19, 55, 59, 42, 42, 58,\n",
              "       76, 70, 59, 66, 40, 57, 40, 39, 23, 76, 59, 22, 39, 76, 59, 57, 57,\n",
              "       76, 59, 57, 40, 10, 39, 20, 76, 39, 56, 39, 22, 58, 76, 46, 48, 69,\n",
              "       59, 42, 42, 58, 76, 70, 59, 66, 40, 57, 58, 76, 40, 23, 76, 46, 48,\n",
              "       69, 59, 42, 42, 58, 76, 40, 48, 76, 40, 32, 23, 76, 53, 68, 48, 19,\n",
              "       68, 59, 58,  5, 19, 19, 45, 56, 39, 22, 58, 32, 69, 40, 48])"
            ]
          },
          "metadata": {
            "tags": []
          },
          "execution_count": 10
        }
      ]
    },
    {
      "cell_type": "markdown",
      "metadata": {
        "id": "bmW_Z23c_FdY",
        "colab_type": "text"
      },
      "source": [
        "## Pre-processing the data\n",
        "\n",
        "As you can see in our char-RNN image above, our LSTM expects an input that is **one-hot encoded** meaning that each character is converted into an integer (via our created dictionary) and *then* converted into a column vector where only it's corresponding integer index will have the value of 1 and the rest of the vector will be filled with 0's. Since we're one-hot encoding the data, let's make a function to do that!\n"
      ]
    },
    {
      "cell_type": "code",
      "metadata": {
        "id": "FVgTeq49_Fdd",
        "colab_type": "code",
        "colab": {}
      },
      "source": [
        "def one_hot_encode(arr, n_labels):\n",
        "    \n",
        "    # Initialize the the encoded array\n",
        "    one_hot = np.zeros((arr.size, n_labels), dtype=np.float32)\n",
        "    \n",
        "    # Fill the appropriate elements with ones\n",
        "    one_hot[np.arange(one_hot.shape[0]), arr.flatten()] = 1.\n",
        "    \n",
        "    # Finally reshape it to get back to the original array\n",
        "    one_hot = one_hot.reshape((*arr.shape, n_labels))\n",
        "    \n",
        "    return one_hot"
      ],
      "execution_count": 0,
      "outputs": []
    },
    {
      "cell_type": "code",
      "metadata": {
        "id": "a84_7lhZ_Fdq",
        "colab_type": "code",
        "colab": {
          "base_uri": "https://localhost:8080/",
          "height": 69
        },
        "outputId": "8fa4de0b-4b52-4ebc-cfe9-4da2c23058c0"
      },
      "source": [
        "# check that the function works as expected\n",
        "test_seq = np.array([[3, 5, 1]])\n",
        "one_hot = one_hot_encode(test_seq, 8)\n",
        "\n",
        "print(one_hot)"
      ],
      "execution_count": 12,
      "outputs": [
        {
          "output_type": "stream",
          "text": [
            "[[[0. 0. 0. 1. 0. 0. 0. 0.]\n",
            "  [0. 0. 0. 0. 0. 1. 0. 0.]\n",
            "  [0. 1. 0. 0. 0. 0. 0. 0.]]]\n"
          ],
          "name": "stdout"
        }
      ]
    },
    {
      "cell_type": "markdown",
      "metadata": {
        "id": "DVUZmWTt_Fd8",
        "colab_type": "text"
      },
      "source": [
        "## Making training mini-batches\n",
        "\n",
        "\n",
        "To train on this data, we also want to create mini-batches for training. Remember that we want our batches to be multiple sequences of some desired number of sequence steps. Considering a simple example, our batches would look like this:\n",
        "\n",
        "<img src=\"https://github.com/DishinGoyani/deep-learning-v2-pytorch/blob/master/recurrent-neural-networks/char-rnn/assets/sequence_batching@1x.png?raw=1\" width=500px>\n",
        "\n",
        "\n",
        "<br>\n",
        "\n",
        "In this example, we'll take the encoded characters (passed in as the `arr` parameter) and split them into multiple sequences, given by `batch_size`. Each of our sequences will be `seq_length` long.\n",
        "\n",
        "### Creating Batches\n",
        "\n",
        "**1. The first thing we need to do is discard some of the text so we only have completely full mini-batches. **\n",
        "\n",
        "Each batch contains $N \\times M$ characters, where $N$ is the batch size (the number of sequences in a batch) and $M$ is the seq_length or number of time steps in a sequence. Then, to get the total number of batches, $K$, that we can make from the array `arr`, you divide the length of `arr` by the number of characters per batch. Once you know the number of batches, you can get the total number of characters to keep from `arr`, $N * M * K$.\n",
        "\n",
        "**2. After that, we need to split `arr` into $N$ batches. ** \n",
        "\n",
        "You can do this using `arr.reshape(size)` where `size` is a tuple containing the dimensions sizes of the reshaped array. We know we want $N$ sequences in a batch, so let's make that the size of the first dimension. For the second dimension, you can use `-1` as a placeholder in the size, it'll fill up the array with the appropriate data for you. After this, you should have an array that is $N \\times (M * K)$.\n",
        "\n",
        "**3. Now that we have this array, we can iterate through it to get our mini-batches. **\n",
        "\n",
        "The idea is each batch is a $N \\times M$ window on the $N \\times (M * K)$ array. For each subsequent batch, the window moves over by `seq_length`. We also want to create both the input and target arrays. Remember that the targets are just the inputs shifted over by one character. The way I like to do this window is use `range` to take steps of size `n_steps` from $0$ to `arr.shape[1]`, the total number of tokens in each sequence. That way, the integers you get from `range` always point to the start of a batch, and each window is `seq_length` wide.\n",
        "\n",
        "> **TODO:** Write the code for creating batches in the function below. The exercises in this notebook _will not be easy_. I've provided a notebook with solutions alongside this notebook. If you get stuck, checkout the solutions. The most important thing is that you don't copy and paste the code into here, **type out the solution code yourself.**"
      ]
    },
    {
      "cell_type": "code",
      "metadata": {
        "id": "Kg7d9Z8Y_FeB",
        "colab_type": "code",
        "colab": {}
      },
      "source": [
        "def get_batches(arr, batch_size, seq_length):\n",
        "    '''Create a generator that returns batches of size\n",
        "       batch_size x seq_length from arr.\n",
        "       \n",
        "       Arguments\n",
        "       ---------\n",
        "       arr: Array you want to make batches from\n",
        "       batch_size: Batch size, the number of sequences per batch\n",
        "       seq_length: Number of encoded chars in a sequence\n",
        "    '''\n",
        "    \n",
        "    ## TODO: Get the number of batches we can make\n",
        "    n_batches = len(arr) // (batch_size * seq_length)\n",
        "    \n",
        "    ## TODO: Keep only enough characters to make full batches\n",
        "    arr = arr[:n_batches * batch_size * seq_length ]\n",
        "    \n",
        "    ## TODO: Reshape into batch_size rows\n",
        "    arr = arr.reshape(batch_size,-1)\n",
        "    \n",
        "    ## TODO: Iterate over the batches using a window of size seq_length\n",
        "    for n in range(0, arr.shape[1], seq_length):\n",
        "        # The features\n",
        "        x = arr[:, n:n + seq_length]\n",
        "        # The targets, shifted by one\n",
        "        y = np.zeros_like(x)\n",
        "        \n",
        "        try:\n",
        "            y[:, :-1], y[:, -1] = x[:, 1:], arr[:, n+seq_length]\n",
        "        except IndexError:\n",
        "            y[:, :-1], y[:, -1] = x[:, 1:], arr[:, 0]\n",
        "            \n",
        "        yield x, y"
      ],
      "execution_count": 0,
      "outputs": []
    },
    {
      "cell_type": "markdown",
      "metadata": {
        "id": "7YTUkQ3g_FeS",
        "colab_type": "text"
      },
      "source": [
        "### Test Your Implementation\n",
        "\n",
        "Now I'll make some data sets and we can check out what's going on as we batch data. Here, as an example, I'm going to use a batch size of 8 and 50 sequence steps."
      ]
    },
    {
      "cell_type": "code",
      "metadata": {
        "id": "GweIXF5Q_FeX",
        "colab_type": "code",
        "colab": {}
      },
      "source": [
        "batches = get_batches(encoded, 8, 50)\n",
        "x, y = next(batches)"
      ],
      "execution_count": 0,
      "outputs": []
    },
    {
      "cell_type": "code",
      "metadata": {
        "id": "bVa0neeW_Fei",
        "colab_type": "code",
        "colab": {
          "base_uri": "https://localhost:8080/",
          "height": 347
        },
        "outputId": "f1f11990-e4de-49ef-8864-4cf3379e86c6"
      },
      "source": [
        "# printing out the first 10 items in a sequence\n",
        "print('x\\n', x[:10, :10])\n",
        "print('\\ny\\n', y[:10, :10])"
      ],
      "execution_count": 55,
      "outputs": [
        {
          "output_type": "stream",
          "text": [
            "x\n",
            " [[15 69 59 42 32 39 22 76 21 19]\n",
            " [23 53 48 76 32 69 59 32 76 59]\n",
            " [39 48 62 76 53 22 76 59 76 70]\n",
            " [23 76 32 69 39 76  7 69 40 39]\n",
            " [76 23 59 68 76 69 39 22 76 32]\n",
            " [ 7 46 23 23 40 53 48 76 59 48]\n",
            " [76 38 48 48 59 76 69 59 62 76]\n",
            " [72 60 57 53 48 23 10 58  5 76]]\n",
            "\n",
            "y\n",
            " [[69 59 42 32 39 22 76 21 19 19]\n",
            " [53 48 76 32 69 59 32 76 59 32]\n",
            " [48 62 76 53 22 76 59 76 70 53]\n",
            " [76 32 69 39 76  7 69 40 39 70]\n",
            " [23 59 68 76 69 39 22 76 32 39]\n",
            " [46 23 23 40 53 48 76 59 48 62]\n",
            " [38 48 48 59 76 69 59 62 76 23]\n",
            " [60 57 53 48 23 10 58  5 76  2]]\n"
          ],
          "name": "stdout"
        }
      ]
    },
    {
      "cell_type": "markdown",
      "metadata": {
        "id": "cK1Zcad0_Fex",
        "colab_type": "text"
      },
      "source": [
        "If you implemented `get_batches` correctly, the above output should look something like \n",
        "```\n",
        "x\n",
        " [[25  8 60 11 45 27 28 73  1  2]\n",
        " [17  7 20 73 45  8 60 45 73 60]\n",
        " [27 20 80 73  7 28 73 60 73 65]\n",
        " [17 73 45  8 27 73 66  8 46 27]\n",
        " [73 17 60 12 73  8 27 28 73 45]\n",
        " [66 64 17 17 46  7 20 73 60 20]\n",
        " [73 76 20 20 60 73  8 60 80 73]\n",
        " [47 35 43  7 20 17 24 50 37 73]]\n",
        "\n",
        "y\n",
        " [[ 8 60 11 45 27 28 73  1  2  2]\n",
        " [ 7 20 73 45  8 60 45 73 60 45]\n",
        " [20 80 73  7 28 73 60 73 65  7]\n",
        " [73 45  8 27 73 66  8 46 27 65]\n",
        " [17 60 12 73  8 27 28 73 45 27]\n",
        " [64 17 17 46  7 20 73 60 20 80]\n",
        " [76 20 20 60 73  8 60 80 73 17]\n",
        " [35 43  7 20 17 24 50 37 73 36]]\n",
        " ```\n",
        " although the exact numbers may be different. Check to make sure the data is shifted over one step for `y`."
      ]
    },
    {
      "cell_type": "markdown",
      "metadata": {
        "id": "oYMzDPdg_Fe1",
        "colab_type": "text"
      },
      "source": [
        "---\n",
        "## Defining the network with PyTorch\n",
        "\n",
        "Below is where you'll define the network.\n",
        "\n",
        "<img src=\"https://github.com/DishinGoyani/deep-learning-v2-pytorch/blob/master/recurrent-neural-networks/char-rnn/assets/charRNN.png?raw=1\" width=500px>\n",
        "\n",
        "Next, you'll use PyTorch to define the architecture of the network. We start by defining the layers and operations we want. Then, define a method for the forward pass. You've also been given a method for predicting characters."
      ]
    },
    {
      "cell_type": "markdown",
      "metadata": {
        "id": "0VWAPpM8_Fe7",
        "colab_type": "text"
      },
      "source": [
        "### Model Structure\n",
        "\n",
        "In `__init__` the suggested structure is as follows:\n",
        "* Create and store the necessary dictionaries (this has been done for you)\n",
        "* Define an LSTM layer that takes as params: an input size (the number of characters), a hidden layer size `n_hidden`, a number of layers `n_layers`, a dropout probability `drop_prob`, and a batch_first boolean (True, since we are batching)\n",
        "* Define a dropout layer with `drop_prob`\n",
        "* Define a fully-connected layer with params: input size `n_hidden` and output size (the number of characters)\n",
        "* Finally, initialize the weights (again, this has been given)\n",
        "\n",
        "Note that some parameters have been named and given in the `__init__` function, and we use them and store them by doing something like `self.drop_prob = drop_prob`."
      ]
    },
    {
      "cell_type": "markdown",
      "metadata": {
        "id": "YXnFBq4f_Fe-",
        "colab_type": "text"
      },
      "source": [
        "---\n",
        "### LSTM Inputs/Outputs\n",
        "\n",
        "You can create a basic [LSTM layer](https://pytorch.org/docs/stable/nn.html#lstm) as follows\n",
        "\n",
        "```python\n",
        "self.lstm = nn.LSTM(input_size, n_hidden, n_layers, \n",
        "                            dropout=drop_prob, batch_first=True)\n",
        "```\n",
        "\n",
        "where `input_size` is the number of characters this cell expects to see as sequential input, and `n_hidden` is the number of units in the hidden layers in the cell. And we can add dropout by adding a dropout parameter with a specified probability; this will automatically add dropout to the inputs or outputs. Finally, in the `forward` function, we can stack up the LSTM cells into layers using `.view`. With this, you pass in a list of cells and it will send the output of one cell into the next cell.\n",
        "\n",
        "We also need to create an initial hidden state of all zeros. This is done like so\n",
        "\n",
        "```python\n",
        "self.init_hidden()\n",
        "```"
      ]
    },
    {
      "cell_type": "code",
      "metadata": {
        "id": "xHWZktE8_FfB",
        "colab_type": "code",
        "colab": {
          "base_uri": "https://localhost:8080/",
          "height": 34
        },
        "outputId": "fdd47b1d-3bf0-4c42-f45b-c0049259aa2b"
      },
      "source": [
        "# check if GPU is available\n",
        "train_on_gpu = torch.cuda.is_available()\n",
        "if(train_on_gpu):\n",
        "    print('Training on GPU!')\n",
        "else: \n",
        "    print('No GPU available, training on CPU; consider making n_epochs very small.')"
      ],
      "execution_count": 56,
      "outputs": [
        {
          "output_type": "stream",
          "text": [
            "Training on GPU!\n"
          ],
          "name": "stdout"
        }
      ]
    },
    {
      "cell_type": "code",
      "metadata": {
        "id": "naeFce9x_FfO",
        "colab_type": "code",
        "colab": {}
      },
      "source": [
        "class CharRNN(nn.Module):\n",
        "    \n",
        "    def __init__(self, tokens, n_hidden=256, n_layers=2,\n",
        "                               drop_prob=0.5, lr=0.001):\n",
        "        super().__init__()\n",
        "        self.drop_prob = drop_prob\n",
        "        self.n_layers = n_layers\n",
        "        self.n_hidden = n_hidden\n",
        "        self.lr = lr\n",
        "        \n",
        "        # creating character dictionaries\n",
        "        self.chars = tokens\n",
        "        self.int2char = dict(enumerate(self.chars))\n",
        "        self.char2int = {ch: ii for ii, ch in self.int2char.items()}\n",
        "        \n",
        "        ## TODO: define the layers of the model\n",
        "        self.lstm = nn.LSTM(len(self.chars), n_hidden, n_layers, dropout = drop_prob\n",
        "                               ,batch_first= True)\n",
        "        \n",
        "        self.dropout = nn.Dropout(drop_prob)\n",
        "        \n",
        "        self.fc = nn.Linear(n_hidden,len(self.chars))\n",
        "    \n",
        "    def forward(self, x, hidden):\n",
        "        ''' Forward pass through the network. \n",
        "            These inputs are x, and the hidden/cell state `hidden`. '''\n",
        "                \n",
        "        ## TODO: Get the outputs and the new hidden state from the lstm\n",
        "        out, hidden = self.lstm(x,hidden)\n",
        "        \n",
        "        out = self.dropout(out)\n",
        "        out = out.contiguous().view(-1, self.n_hidden)\n",
        "        out = self.fc(out)\n",
        "        # return the final output and the hidden state\n",
        "        return out, hidden\n",
        "    \n",
        "    \n",
        "    def init_hidden(self, batch_size):\n",
        "        ''' Initializes hidden state '''\n",
        "        # Create two new tensors with sizes n_layers x batch_size x n_hidden,\n",
        "        # initialized to zero, for hidden state and cell state of LSTM\n",
        "        weight = next(self.parameters()).data\n",
        "        \n",
        "        if (train_on_gpu):\n",
        "            hidden = (weight.new(self.n_layers, batch_size, self.n_hidden).zero_().cuda(),\n",
        "                  weight.new(self.n_layers, batch_size, self.n_hidden).zero_().cuda())\n",
        "        else:\n",
        "            hidden = (weight.new(self.n_layers, batch_size, self.n_hidden).zero_(),\n",
        "                      weight.new(self.n_layers, batch_size, self.n_hidden).zero_())\n",
        "        \n",
        "        return hidden\n",
        "        "
      ],
      "execution_count": 0,
      "outputs": []
    },
    {
      "cell_type": "markdown",
      "metadata": {
        "id": "6DRaaURv_Ffe",
        "colab_type": "text"
      },
      "source": [
        "## Time to train\n",
        "\n",
        "The train function gives us the ability to set the number of epochs, the learning rate, and other parameters.\n",
        "\n",
        "Below we're using an Adam optimizer and cross entropy loss since we are looking at character class scores as output. We calculate the loss and perform backpropagation, as usual!\n",
        "\n",
        "A couple of details about training: \n",
        ">* Within the batch loop, we detach the hidden state from its history; this time setting it equal to a new *tuple* variable because an LSTM has a hidden state that is a tuple of the hidden and cell states.\n",
        "* We use [`clip_grad_norm_`](https://pytorch.org/docs/stable/_modules/torch/nn/utils/clip_grad.html) to help prevent exploding gradients."
      ]
    },
    {
      "cell_type": "code",
      "metadata": {
        "id": "YC-oAxzh_Ffi",
        "colab_type": "code",
        "colab": {}
      },
      "source": [
        "def train(net, data, epochs=10, batch_size=10, seq_length=50, lr=0.001, clip=5, val_frac=0.1, print_every=10):\n",
        "    ''' Training a network \n",
        "    \n",
        "        Arguments\n",
        "        ---------\n",
        "        \n",
        "        net: CharRNN network\n",
        "        data: text data to train the network\n",
        "        epochs: Number of epochs to train\n",
        "        batch_size: Number of mini-sequences per mini-batch, aka batch size\n",
        "        seq_length: Number of character steps per mini-batch\n",
        "        lr: learning rate\n",
        "        clip: gradient clipping\n",
        "        val_frac: Fraction of data to hold out for validation\n",
        "        print_every: Number of steps for printing training and validation loss\n",
        "    \n",
        "    '''\n",
        "    net.train()\n",
        "    \n",
        "    opt = torch.optim.Adam(net.parameters(), lr=lr)\n",
        "    criterion = nn.CrossEntropyLoss()\n",
        "    \n",
        "    # create training and validation data\n",
        "    val_idx = int(len(data)*(1-val_frac))\n",
        "    data, val_data = data[:val_idx], data[val_idx:]\n",
        "    \n",
        "    if(train_on_gpu):\n",
        "        net.cuda()\n",
        "    \n",
        "    counter = 0\n",
        "    n_chars = len(net.chars)\n",
        "    for e in range(epochs):\n",
        "        # initialize hidden state\n",
        "        h = net.init_hidden(batch_size)\n",
        "        \n",
        "        for x, y in get_batches(data, batch_size, seq_length):\n",
        "            counter += 1\n",
        "            \n",
        "            # One-hot encode our data and make them Torch tensors\n",
        "            x = one_hot_encode(x, n_chars)\n",
        "            inputs, targets = torch.from_numpy(x), torch.from_numpy(y)\n",
        "            \n",
        "            if(train_on_gpu):\n",
        "                inputs, targets = inputs.cuda(), targets.cuda()\n",
        "\n",
        "            # Creating new variables for the hidden state, otherwise\n",
        "            # we'd backprop through the entire training history\n",
        "            h = tuple([each.data for each in h])\n",
        "\n",
        "            # zero accumulated gradients\n",
        "            net.zero_grad()\n",
        "            \n",
        "            # get the output from the model\n",
        "            output, h = net(inputs, h)\n",
        "            \n",
        "            # calculate the loss and perform backprop\n",
        "            loss = criterion(output, targets.view(batch_size*seq_length).long())\n",
        "            loss.backward()\n",
        "            # `clip_grad_norm` helps prevent the exploding gradient problem in RNNs / LSTMs.\n",
        "            nn.utils.clip_grad_norm_(net.parameters(), clip)\n",
        "            opt.step()\n",
        "            \n",
        "            # loss stats\n",
        "            if counter % print_every == 0:\n",
        "                # Get validation loss\n",
        "                val_h = net.init_hidden(batch_size)\n",
        "                val_losses = []\n",
        "                net.eval()\n",
        "                for x, y in get_batches(val_data, batch_size, seq_length):\n",
        "                    # One-hot encode our data and make them Torch tensors\n",
        "                    x = one_hot_encode(x, n_chars)\n",
        "                    x, y = torch.from_numpy(x), torch.from_numpy(y)\n",
        "                    \n",
        "                    # Creating new variables for the hidden state, otherwise\n",
        "                    # we'd backprop through the entire training history\n",
        "                    val_h = tuple([each.data for each in val_h])\n",
        "                    \n",
        "                    inputs, targets = x, y\n",
        "                    if(train_on_gpu):\n",
        "                        inputs, targets = inputs.cuda(), targets.cuda()\n",
        "\n",
        "                    output, val_h = net(inputs, val_h)\n",
        "                    val_loss = criterion(output, targets.view(batch_size*seq_length).long())\n",
        "                \n",
        "                    val_losses.append(val_loss.item())\n",
        "                \n",
        "                net.train() # reset to train mode after iterationg through validation data\n",
        "                \n",
        "                print(\"Epoch: {}/{}...\".format(e+1, epochs),\n",
        "                      \"Step: {}...\".format(counter),\n",
        "                      \"Loss: {:.4f}...\".format(loss.item()),\n",
        "                      \"Val Loss: {:.4f}\".format(np.mean(val_losses)))"
      ],
      "execution_count": 0,
      "outputs": []
    },
    {
      "cell_type": "markdown",
      "metadata": {
        "id": "JVKfxUpD_Ffv",
        "colab_type": "text"
      },
      "source": [
        "## Instantiating the model\n",
        "\n",
        "Now we can actually train the network. First we'll create the network itself, with some given hyperparameters. Then, define the mini-batches sizes, and start training!"
      ]
    },
    {
      "cell_type": "code",
      "metadata": {
        "id": "xlLKbaQH_Ffx",
        "colab_type": "code",
        "colab": {
          "base_uri": "https://localhost:8080/",
          "height": 104
        },
        "outputId": "1ee78a53-6faa-4471-a089-92a81716d8b0"
      },
      "source": [
        "## TODO: set your model hyperparameters\n",
        "# define and print the net\n",
        "n_hidden=512\n",
        "n_layers=2\n",
        "\n",
        "net = CharRNN(chars, n_hidden, n_layers)\n",
        "print(net)"
      ],
      "execution_count": 84,
      "outputs": [
        {
          "output_type": "stream",
          "text": [
            "CharRNN(\n",
            "  (lstm): LSTM(83, 512, num_layers=2, batch_first=True, dropout=0.5)\n",
            "  (dropout): Dropout(p=0.5)\n",
            "  (fc): Linear(in_features=512, out_features=83, bias=True)\n",
            ")\n"
          ],
          "name": "stdout"
        }
      ]
    },
    {
      "cell_type": "markdown",
      "metadata": {
        "id": "H81a8vWL_Ff5",
        "colab_type": "text"
      },
      "source": [
        "### Set your training hyperparameters!"
      ]
    },
    {
      "cell_type": "code",
      "metadata": {
        "scrolled": true,
        "id": "fZ3J_fIT_Ff-",
        "colab_type": "code",
        "colab": {
          "base_uri": "https://localhost:8080/",
          "height": 1000
        },
        "outputId": "57fefbec-c9eb-441e-b631-7222a34ab721"
      },
      "source": [
        "batch_size = 128\n",
        "seq_length = 100\n",
        "n_epochs =  20 # start small if you are just testing initial behavior\n",
        "\n",
        "# train the model\n",
        "train(net, encoded, epochs=n_epochs, batch_size=batch_size, seq_length=seq_length, lr=0.001, print_every=10)"
      ],
      "execution_count": 85,
      "outputs": [
        {
          "output_type": "stream",
          "text": [
            "Epoch: 1/20... Step: 10... Loss: 3.2320... Val Loss: 3.1928\n",
            "Epoch: 1/20... Step: 20... Loss: 3.1407... Val Loss: 3.1343\n",
            "Epoch: 1/20... Step: 30... Loss: 3.1359... Val Loss: 3.1228\n",
            "Epoch: 1/20... Step: 40... Loss: 3.1120... Val Loss: 3.1188\n",
            "Epoch: 1/20... Step: 50... Loss: 3.1423... Val Loss: 3.1169\n",
            "Epoch: 1/20... Step: 60... Loss: 3.1160... Val Loss: 3.1140\n",
            "Epoch: 1/20... Step: 70... Loss: 3.1044... Val Loss: 3.1111\n",
            "Epoch: 1/20... Step: 80... Loss: 3.1150... Val Loss: 3.1022\n",
            "Epoch: 1/20... Step: 90... Loss: 3.0970... Val Loss: 3.0791\n",
            "Epoch: 1/20... Step: 100... Loss: 3.0738... Val Loss: 3.0630\n",
            "Epoch: 1/20... Step: 110... Loss: 2.9854... Val Loss: 2.9607\n",
            "Epoch: 1/20... Step: 120... Loss: 2.8502... Val Loss: 2.8419\n",
            "Epoch: 1/20... Step: 130... Loss: 2.7523... Val Loss: 2.7358\n",
            "Epoch: 2/20... Step: 140... Loss: 2.6724... Val Loss: 2.6056\n",
            "Epoch: 2/20... Step: 150... Loss: 2.5858... Val Loss: 2.5290\n",
            "Epoch: 2/20... Step: 160... Loss: 2.5227... Val Loss: 2.4761\n",
            "Epoch: 2/20... Step: 170... Loss: 2.4490... Val Loss: 2.4443\n",
            "Epoch: 2/20... Step: 180... Loss: 2.4261... Val Loss: 2.4029\n",
            "Epoch: 2/20... Step: 190... Loss: 2.3770... Val Loss: 2.3747\n",
            "Epoch: 2/20... Step: 200... Loss: 2.3689... Val Loss: 2.3417\n",
            "Epoch: 2/20... Step: 210... Loss: 2.3411... Val Loss: 2.3253\n",
            "Epoch: 2/20... Step: 220... Loss: 2.2969... Val Loss: 2.2877\n",
            "Epoch: 2/20... Step: 230... Loss: 2.2934... Val Loss: 2.2701\n",
            "Epoch: 2/20... Step: 240... Loss: 2.2703... Val Loss: 2.2361\n",
            "Epoch: 2/20... Step: 250... Loss: 2.2002... Val Loss: 2.2059\n",
            "Epoch: 2/20... Step: 260... Loss: 2.1772... Val Loss: 2.1820\n",
            "Epoch: 2/20... Step: 270... Loss: 2.2017... Val Loss: 2.1732\n",
            "Epoch: 3/20... Step: 280... Loss: 2.1860... Val Loss: 2.1425\n",
            "Epoch: 3/20... Step: 290... Loss: 2.1514... Val Loss: 2.1202\n",
            "Epoch: 3/20... Step: 300... Loss: 2.1254... Val Loss: 2.0967\n",
            "Epoch: 3/20... Step: 310... Loss: 2.0990... Val Loss: 2.0785\n",
            "Epoch: 3/20... Step: 320... Loss: 2.0713... Val Loss: 2.0569\n",
            "Epoch: 3/20... Step: 330... Loss: 2.0322... Val Loss: 2.0409\n",
            "Epoch: 3/20... Step: 340... Loss: 2.0649... Val Loss: 2.0193\n",
            "Epoch: 3/20... Step: 350... Loss: 2.0438... Val Loss: 2.0011\n",
            "Epoch: 3/20... Step: 360... Loss: 1.9689... Val Loss: 1.9863\n",
            "Epoch: 3/20... Step: 370... Loss: 2.0002... Val Loss: 1.9695\n",
            "Epoch: 3/20... Step: 380... Loss: 1.9739... Val Loss: 1.9536\n",
            "Epoch: 3/20... Step: 390... Loss: 1.9518... Val Loss: 1.9414\n",
            "Epoch: 3/20... Step: 400... Loss: 1.9212... Val Loss: 1.9258\n",
            "Epoch: 3/20... Step: 410... Loss: 1.9266... Val Loss: 1.9099\n",
            "Epoch: 4/20... Step: 420... Loss: 1.9226... Val Loss: 1.8972\n",
            "Epoch: 4/20... Step: 430... Loss: 1.9238... Val Loss: 1.8774\n",
            "Epoch: 4/20... Step: 440... Loss: 1.8914... Val Loss: 1.8736\n",
            "Epoch: 4/20... Step: 450... Loss: 1.8366... Val Loss: 1.8581\n",
            "Epoch: 4/20... Step: 460... Loss: 1.8324... Val Loss: 1.8518\n",
            "Epoch: 4/20... Step: 470... Loss: 1.8652... Val Loss: 1.8375\n",
            "Epoch: 4/20... Step: 480... Loss: 1.8432... Val Loss: 1.8211\n",
            "Epoch: 4/20... Step: 490... Loss: 1.8432... Val Loss: 1.8089\n",
            "Epoch: 4/20... Step: 500... Loss: 1.8393... Val Loss: 1.7988\n",
            "Epoch: 4/20... Step: 510... Loss: 1.8065... Val Loss: 1.7876\n",
            "Epoch: 4/20... Step: 520... Loss: 1.8294... Val Loss: 1.7771\n",
            "Epoch: 4/20... Step: 530... Loss: 1.7832... Val Loss: 1.7698\n",
            "Epoch: 4/20... Step: 540... Loss: 1.7433... Val Loss: 1.7564\n",
            "Epoch: 4/20... Step: 550... Loss: 1.7955... Val Loss: 1.7491\n",
            "Epoch: 5/20... Step: 560... Loss: 1.7607... Val Loss: 1.7423\n",
            "Epoch: 5/20... Step: 570... Loss: 1.7475... Val Loss: 1.7303\n",
            "Epoch: 5/20... Step: 580... Loss: 1.7242... Val Loss: 1.7237\n",
            "Epoch: 5/20... Step: 590... Loss: 1.7344... Val Loss: 1.7130\n",
            "Epoch: 5/20... Step: 600... Loss: 1.7189... Val Loss: 1.7082\n",
            "Epoch: 5/20... Step: 610... Loss: 1.7060... Val Loss: 1.6978\n",
            "Epoch: 5/20... Step: 620... Loss: 1.7151... Val Loss: 1.6899\n",
            "Epoch: 5/20... Step: 630... Loss: 1.7229... Val Loss: 1.6829\n",
            "Epoch: 5/20... Step: 640... Loss: 1.6980... Val Loss: 1.6751\n",
            "Epoch: 5/20... Step: 650... Loss: 1.6785... Val Loss: 1.6693\n",
            "Epoch: 5/20... Step: 660... Loss: 1.6552... Val Loss: 1.6642\n",
            "Epoch: 5/20... Step: 670... Loss: 1.6831... Val Loss: 1.6625\n",
            "Epoch: 5/20... Step: 680... Loss: 1.6772... Val Loss: 1.6489\n",
            "Epoch: 5/20... Step: 690... Loss: 1.6577... Val Loss: 1.6447\n",
            "Epoch: 6/20... Step: 700... Loss: 1.6531... Val Loss: 1.6392\n",
            "Epoch: 6/20... Step: 710... Loss: 1.6426... Val Loss: 1.6329\n",
            "Epoch: 6/20... Step: 720... Loss: 1.6288... Val Loss: 1.6234\n",
            "Epoch: 6/20... Step: 730... Loss: 1.6508... Val Loss: 1.6136\n",
            "Epoch: 6/20... Step: 740... Loss: 1.6061... Val Loss: 1.6158\n",
            "Epoch: 6/20... Step: 750... Loss: 1.5946... Val Loss: 1.6103\n",
            "Epoch: 6/20... Step: 760... Loss: 1.6273... Val Loss: 1.6044\n",
            "Epoch: 6/20... Step: 770... Loss: 1.6143... Val Loss: 1.6015\n",
            "Epoch: 6/20... Step: 780... Loss: 1.6029... Val Loss: 1.5953\n",
            "Epoch: 6/20... Step: 790... Loss: 1.5869... Val Loss: 1.5900\n",
            "Epoch: 6/20... Step: 800... Loss: 1.5955... Val Loss: 1.5828\n",
            "Epoch: 6/20... Step: 810... Loss: 1.5888... Val Loss: 1.5806\n",
            "Epoch: 6/20... Step: 820... Loss: 1.5515... Val Loss: 1.5769\n",
            "Epoch: 6/20... Step: 830... Loss: 1.5970... Val Loss: 1.5681\n",
            "Epoch: 7/20... Step: 840... Loss: 1.5564... Val Loss: 1.5702\n",
            "Epoch: 7/20... Step: 850... Loss: 1.5726... Val Loss: 1.5595\n",
            "Epoch: 7/20... Step: 860... Loss: 1.5596... Val Loss: 1.5559\n",
            "Epoch: 7/20... Step: 870... Loss: 1.5573... Val Loss: 1.5490\n",
            "Epoch: 7/20... Step: 880... Loss: 1.5598... Val Loss: 1.5494\n",
            "Epoch: 7/20... Step: 890... Loss: 1.5575... Val Loss: 1.5462\n",
            "Epoch: 7/20... Step: 900... Loss: 1.5395... Val Loss: 1.5484\n",
            "Epoch: 7/20... Step: 910... Loss: 1.5119... Val Loss: 1.5403\n",
            "Epoch: 7/20... Step: 920... Loss: 1.5330... Val Loss: 1.5332\n",
            "Epoch: 7/20... Step: 930... Loss: 1.5251... Val Loss: 1.5303\n",
            "Epoch: 7/20... Step: 940... Loss: 1.5275... Val Loss: 1.5262\n",
            "Epoch: 7/20... Step: 950... Loss: 1.5431... Val Loss: 1.5244\n",
            "Epoch: 7/20... Step: 960... Loss: 1.5356... Val Loss: 1.5194\n",
            "Epoch: 7/20... Step: 970... Loss: 1.5488... Val Loss: 1.5163\n",
            "Epoch: 8/20... Step: 980... Loss: 1.5192... Val Loss: 1.5182\n",
            "Epoch: 8/20... Step: 990... Loss: 1.5184... Val Loss: 1.5132\n",
            "Epoch: 8/20... Step: 1000... Loss: 1.5135... Val Loss: 1.5078\n",
            "Epoch: 8/20... Step: 1010... Loss: 1.5470... Val Loss: 1.5000\n",
            "Epoch: 8/20... Step: 1020... Loss: 1.5092... Val Loss: 1.4946\n",
            "Epoch: 8/20... Step: 1030... Loss: 1.4930... Val Loss: 1.4948\n",
            "Epoch: 8/20... Step: 1040... Loss: 1.4985... Val Loss: 1.4986\n",
            "Epoch: 8/20... Step: 1050... Loss: 1.4844... Val Loss: 1.4929\n",
            "Epoch: 8/20... Step: 1060... Loss: 1.4876... Val Loss: 1.4903\n",
            "Epoch: 8/20... Step: 1070... Loss: 1.4926... Val Loss: 1.4854\n",
            "Epoch: 8/20... Step: 1080... Loss: 1.4934... Val Loss: 1.4799\n",
            "Epoch: 8/20... Step: 1090... Loss: 1.4705... Val Loss: 1.4803\n",
            "Epoch: 8/20... Step: 1100... Loss: 1.4656... Val Loss: 1.4746\n",
            "Epoch: 8/20... Step: 1110... Loss: 1.4784... Val Loss: 1.4722\n",
            "Epoch: 9/20... Step: 1120... Loss: 1.4813... Val Loss: 1.4749\n",
            "Epoch: 9/20... Step: 1130... Loss: 1.4773... Val Loss: 1.4693\n",
            "Epoch: 9/20... Step: 1140... Loss: 1.4793... Val Loss: 1.4654\n",
            "Epoch: 9/20... Step: 1150... Loss: 1.4931... Val Loss: 1.4636\n",
            "Epoch: 9/20... Step: 1160... Loss: 1.4486... Val Loss: 1.4647\n",
            "Epoch: 9/20... Step: 1170... Loss: 1.4577... Val Loss: 1.4603\n",
            "Epoch: 9/20... Step: 1180... Loss: 1.4522... Val Loss: 1.4634\n",
            "Epoch: 9/20... Step: 1190... Loss: 1.4756... Val Loss: 1.4582\n",
            "Epoch: 9/20... Step: 1200... Loss: 1.4332... Val Loss: 1.4576\n",
            "Epoch: 9/20... Step: 1210... Loss: 1.4489... Val Loss: 1.4529\n",
            "Epoch: 9/20... Step: 1220... Loss: 1.4508... Val Loss: 1.4496\n",
            "Epoch: 9/20... Step: 1230... Loss: 1.4275... Val Loss: 1.4496\n",
            "Epoch: 9/20... Step: 1240... Loss: 1.4327... Val Loss: 1.4441\n",
            "Epoch: 9/20... Step: 1250... Loss: 1.4369... Val Loss: 1.4445\n",
            "Epoch: 10/20... Step: 1260... Loss: 1.4450... Val Loss: 1.4395\n",
            "Epoch: 10/20... Step: 1270... Loss: 1.4428... Val Loss: 1.4388\n",
            "Epoch: 10/20... Step: 1280... Loss: 1.4556... Val Loss: 1.4362\n",
            "Epoch: 10/20... Step: 1290... Loss: 1.4357... Val Loss: 1.4354\n",
            "Epoch: 10/20... Step: 1300... Loss: 1.4197... Val Loss: 1.4307\n",
            "Epoch: 10/20... Step: 1310... Loss: 1.4399... Val Loss: 1.4311\n",
            "Epoch: 10/20... Step: 1320... Loss: 1.3981... Val Loss: 1.4354\n",
            "Epoch: 10/20... Step: 1330... Loss: 1.4093... Val Loss: 1.4275\n",
            "Epoch: 10/20... Step: 1340... Loss: 1.3954... Val Loss: 1.4275\n",
            "Epoch: 10/20... Step: 1350... Loss: 1.3956... Val Loss: 1.4235\n",
            "Epoch: 10/20... Step: 1360... Loss: 1.3980... Val Loss: 1.4247\n",
            "Epoch: 10/20... Step: 1370... Loss: 1.3884... Val Loss: 1.4199\n",
            "Epoch: 10/20... Step: 1380... Loss: 1.4264... Val Loss: 1.4154\n",
            "Epoch: 10/20... Step: 1390... Loss: 1.4210... Val Loss: 1.4166\n",
            "Epoch: 11/20... Step: 1400... Loss: 1.4399... Val Loss: 1.4122\n",
            "Epoch: 11/20... Step: 1410... Loss: 1.4449... Val Loss: 1.4129\n",
            "Epoch: 11/20... Step: 1420... Loss: 1.4340... Val Loss: 1.4083\n",
            "Epoch: 11/20... Step: 1430... Loss: 1.3934... Val Loss: 1.4090\n",
            "Epoch: 11/20... Step: 1440... Loss: 1.4343... Val Loss: 1.4089\n",
            "Epoch: 11/20... Step: 1450... Loss: 1.3545... Val Loss: 1.4073\n",
            "Epoch: 11/20... Step: 1460... Loss: 1.3792... Val Loss: 1.4086\n",
            "Epoch: 11/20... Step: 1470... Loss: 1.3805... Val Loss: 1.4063\n",
            "Epoch: 11/20... Step: 1480... Loss: 1.4013... Val Loss: 1.4017\n",
            "Epoch: 11/20... Step: 1490... Loss: 1.3837... Val Loss: 1.4026\n",
            "Epoch: 11/20... Step: 1500... Loss: 1.3652... Val Loss: 1.4044\n",
            "Epoch: 11/20... Step: 1510... Loss: 1.3515... Val Loss: 1.3955\n",
            "Epoch: 11/20... Step: 1520... Loss: 1.4000... Val Loss: 1.3967\n",
            "Epoch: 12/20... Step: 1530... Loss: 1.4382... Val Loss: 1.3973\n",
            "Epoch: 12/20... Step: 1540... Loss: 1.3923... Val Loss: 1.3933\n",
            "Epoch: 12/20... Step: 1550... Loss: 1.4094... Val Loss: 1.3912\n",
            "Epoch: 12/20... Step: 1560... Loss: 1.4085... Val Loss: 1.3876\n",
            "Epoch: 12/20... Step: 1570... Loss: 1.3617... Val Loss: 1.3908\n",
            "Epoch: 12/20... Step: 1580... Loss: 1.3382... Val Loss: 1.3880\n",
            "Epoch: 12/20... Step: 1590... Loss: 1.3352... Val Loss: 1.3864\n",
            "Epoch: 12/20... Step: 1600... Loss: 1.3633... Val Loss: 1.3862\n",
            "Epoch: 12/20... Step: 1610... Loss: 1.3529... Val Loss: 1.3839\n",
            "Epoch: 12/20... Step: 1620... Loss: 1.3458... Val Loss: 1.3815\n",
            "Epoch: 12/20... Step: 1630... Loss: 1.3825... Val Loss: 1.3816\n",
            "Epoch: 12/20... Step: 1640... Loss: 1.3527... Val Loss: 1.3784\n",
            "Epoch: 12/20... Step: 1650... Loss: 1.3244... Val Loss: 1.3741\n",
            "Epoch: 12/20... Step: 1660... Loss: 1.3740... Val Loss: 1.3798\n",
            "Epoch: 13/20... Step: 1670... Loss: 1.3463... Val Loss: 1.3793\n",
            "Epoch: 13/20... Step: 1680... Loss: 1.3695... Val Loss: 1.3727\n",
            "Epoch: 13/20... Step: 1690... Loss: 1.3394... Val Loss: 1.3718\n",
            "Epoch: 13/20... Step: 1700... Loss: 1.3397... Val Loss: 1.3660\n",
            "Epoch: 13/20... Step: 1710... Loss: 1.3154... Val Loss: 1.3677\n",
            "Epoch: 13/20... Step: 1720... Loss: 1.3297... Val Loss: 1.3617\n",
            "Epoch: 13/20... Step: 1730... Loss: 1.3787... Val Loss: 1.3659\n",
            "Epoch: 13/20... Step: 1740... Loss: 1.3267... Val Loss: 1.3647\n",
            "Epoch: 13/20... Step: 1750... Loss: 1.3007... Val Loss: 1.3689\n",
            "Epoch: 13/20... Step: 1760... Loss: 1.3362... Val Loss: 1.3633\n",
            "Epoch: 13/20... Step: 1770... Loss: 1.3436... Val Loss: 1.3602\n",
            "Epoch: 13/20... Step: 1780... Loss: 1.3265... Val Loss: 1.3611\n",
            "Epoch: 13/20... Step: 1790... Loss: 1.3140... Val Loss: 1.3608\n",
            "Epoch: 13/20... Step: 1800... Loss: 1.3316... Val Loss: 1.3565\n",
            "Epoch: 14/20... Step: 1810... Loss: 1.3415... Val Loss: 1.3612\n",
            "Epoch: 14/20... Step: 1820... Loss: 1.3223... Val Loss: 1.3508\n",
            "Epoch: 14/20... Step: 1830... Loss: 1.3421... Val Loss: 1.3513\n",
            "Epoch: 14/20... Step: 1840... Loss: 1.2888... Val Loss: 1.3463\n",
            "Epoch: 14/20... Step: 1850... Loss: 1.2690... Val Loss: 1.3450\n",
            "Epoch: 14/20... Step: 1860... Loss: 1.3301... Val Loss: 1.3447\n",
            "Epoch: 14/20... Step: 1870... Loss: 1.3298... Val Loss: 1.3467\n",
            "Epoch: 14/20... Step: 1880... Loss: 1.3219... Val Loss: 1.3423\n",
            "Epoch: 14/20... Step: 1890... Loss: 1.3361... Val Loss: 1.3456\n",
            "Epoch: 14/20... Step: 1900... Loss: 1.3208... Val Loss: 1.3407\n",
            "Epoch: 14/20... Step: 1910... Loss: 1.3155... Val Loss: 1.3441\n",
            "Epoch: 14/20... Step: 1920... Loss: 1.3203... Val Loss: 1.3409\n",
            "Epoch: 14/20... Step: 1930... Loss: 1.2799... Val Loss: 1.3402\n",
            "Epoch: 14/20... Step: 1940... Loss: 1.3373... Val Loss: 1.3375\n",
            "Epoch: 15/20... Step: 1950... Loss: 1.3011... Val Loss: 1.3353\n",
            "Epoch: 15/20... Step: 1960... Loss: 1.3077... Val Loss: 1.3271\n",
            "Epoch: 15/20... Step: 1970... Loss: 1.2871... Val Loss: 1.3329\n",
            "Epoch: 15/20... Step: 1980... Loss: 1.2844... Val Loss: 1.3284\n",
            "Epoch: 15/20... Step: 1990... Loss: 1.2927... Val Loss: 1.3354\n",
            "Epoch: 15/20... Step: 2000... Loss: 1.2756... Val Loss: 1.3347\n",
            "Epoch: 15/20... Step: 2010... Loss: 1.3021... Val Loss: 1.3251\n",
            "Epoch: 15/20... Step: 2020... Loss: 1.3087... Val Loss: 1.3289\n",
            "Epoch: 15/20... Step: 2030... Loss: 1.2718... Val Loss: 1.3303\n",
            "Epoch: 15/20... Step: 2040... Loss: 1.3011... Val Loss: 1.3255\n",
            "Epoch: 15/20... Step: 2050... Loss: 1.2803... Val Loss: 1.3269\n",
            "Epoch: 15/20... Step: 2060... Loss: 1.2921... Val Loss: 1.3274\n",
            "Epoch: 15/20... Step: 2070... Loss: 1.3102... Val Loss: 1.3248\n",
            "Epoch: 15/20... Step: 2080... Loss: 1.2760... Val Loss: 1.3201\n",
            "Epoch: 16/20... Step: 2090... Loss: 1.2988... Val Loss: 1.3263\n",
            "Epoch: 16/20... Step: 2100... Loss: 1.2768... Val Loss: 1.3205\n",
            "Epoch: 16/20... Step: 2110... Loss: 1.2676... Val Loss: 1.3174\n",
            "Epoch: 16/20... Step: 2120... Loss: 1.2837... Val Loss: 1.3193\n",
            "Epoch: 16/20... Step: 2130... Loss: 1.2535... Val Loss: 1.3150\n",
            "Epoch: 16/20... Step: 2140... Loss: 1.2658... Val Loss: 1.3168\n",
            "Epoch: 16/20... Step: 2150... Loss: 1.2969... Val Loss: 1.3102\n",
            "Epoch: 16/20... Step: 2160... Loss: 1.2695... Val Loss: 1.3136\n",
            "Epoch: 16/20... Step: 2170... Loss: 1.2747... Val Loss: 1.3135\n",
            "Epoch: 16/20... Step: 2180... Loss: 1.2625... Val Loss: 1.3155\n",
            "Epoch: 16/20... Step: 2190... Loss: 1.2878... Val Loss: 1.3110\n",
            "Epoch: 16/20... Step: 2200... Loss: 1.2646... Val Loss: 1.3119\n",
            "Epoch: 16/20... Step: 2210... Loss: 1.2274... Val Loss: 1.3084\n",
            "Epoch: 16/20... Step: 2220... Loss: 1.2798... Val Loss: 1.3117\n",
            "Epoch: 17/20... Step: 2230... Loss: 1.2430... Val Loss: 1.3062\n",
            "Epoch: 17/20... Step: 2240... Loss: 1.2550... Val Loss: 1.3032\n",
            "Epoch: 17/20... Step: 2250... Loss: 1.2425... Val Loss: 1.3065\n",
            "Epoch: 17/20... Step: 2260... Loss: 1.2543... Val Loss: 1.3095\n",
            "Epoch: 17/20... Step: 2270... Loss: 1.2602... Val Loss: 1.3098\n",
            "Epoch: 17/20... Step: 2280... Loss: 1.2759... Val Loss: 1.3022\n",
            "Epoch: 17/20... Step: 2290... Loss: 1.2668... Val Loss: 1.3063\n",
            "Epoch: 17/20... Step: 2300... Loss: 1.2357... Val Loss: 1.3104\n",
            "Epoch: 17/20... Step: 2310... Loss: 1.2497... Val Loss: 1.3028\n",
            "Epoch: 17/20... Step: 2320... Loss: 1.2523... Val Loss: 1.3000\n",
            "Epoch: 17/20... Step: 2330... Loss: 1.2406... Val Loss: 1.3008\n",
            "Epoch: 17/20... Step: 2340... Loss: 1.2618... Val Loss: 1.2969\n",
            "Epoch: 17/20... Step: 2350... Loss: 1.2657... Val Loss: 1.2977\n",
            "Epoch: 17/20... Step: 2360... Loss: 1.2694... Val Loss: 1.3021\n",
            "Epoch: 18/20... Step: 2370... Loss: 1.2361... Val Loss: 1.3030\n",
            "Epoch: 18/20... Step: 2380... Loss: 1.2383... Val Loss: 1.2964\n",
            "Epoch: 18/20... Step: 2390... Loss: 1.2352... Val Loss: 1.3017\n",
            "Epoch: 18/20... Step: 2400... Loss: 1.2738... Val Loss: 1.2999\n",
            "Epoch: 18/20... Step: 2410... Loss: 1.2710... Val Loss: 1.3002\n",
            "Epoch: 18/20... Step: 2420... Loss: 1.2416... Val Loss: 1.2924\n",
            "Epoch: 18/20... Step: 2430... Loss: 1.2619... Val Loss: 1.2972\n",
            "Epoch: 18/20... Step: 2440... Loss: 1.2346... Val Loss: 1.2966\n",
            "Epoch: 18/20... Step: 2450... Loss: 1.2310... Val Loss: 1.2985\n",
            "Epoch: 18/20... Step: 2460... Loss: 1.2471... Val Loss: 1.2945\n",
            "Epoch: 18/20... Step: 2470... Loss: 1.2424... Val Loss: 1.2954\n",
            "Epoch: 18/20... Step: 2480... Loss: 1.2372... Val Loss: 1.2934\n",
            "Epoch: 18/20... Step: 2490... Loss: 1.2231... Val Loss: 1.2926\n",
            "Epoch: 18/20... Step: 2500... Loss: 1.2352... Val Loss: 1.2965\n",
            "Epoch: 19/20... Step: 2510... Loss: 1.2371... Val Loss: 1.2972\n",
            "Epoch: 19/20... Step: 2520... Loss: 1.2482... Val Loss: 1.2907\n",
            "Epoch: 19/20... Step: 2530... Loss: 1.2489... Val Loss: 1.2859\n",
            "Epoch: 19/20... Step: 2540... Loss: 1.2661... Val Loss: 1.2943\n",
            "Epoch: 19/20... Step: 2550... Loss: 1.2297... Val Loss: 1.2919\n",
            "Epoch: 19/20... Step: 2560... Loss: 1.2439... Val Loss: 1.2894\n",
            "Epoch: 19/20... Step: 2570... Loss: 1.2282... Val Loss: 1.2898\n",
            "Epoch: 19/20... Step: 2580... Loss: 1.2455... Val Loss: 1.2876\n",
            "Epoch: 19/20... Step: 2590... Loss: 1.2075... Val Loss: 1.2842\n",
            "Epoch: 19/20... Step: 2600... Loss: 1.2163... Val Loss: 1.2872\n",
            "Epoch: 19/20... Step: 2610... Loss: 1.2322... Val Loss: 1.2958\n",
            "Epoch: 19/20... Step: 2620... Loss: 1.2178... Val Loss: 1.2875\n",
            "Epoch: 19/20... Step: 2630... Loss: 1.2193... Val Loss: 1.2839\n",
            "Epoch: 19/20... Step: 2640... Loss: 1.2271... Val Loss: 1.2840\n",
            "Epoch: 20/20... Step: 2650... Loss: 1.2313... Val Loss: 1.2847\n",
            "Epoch: 20/20... Step: 2660... Loss: 1.2437... Val Loss: 1.2814\n",
            "Epoch: 20/20... Step: 2670... Loss: 1.2343... Val Loss: 1.2810\n",
            "Epoch: 20/20... Step: 2680... Loss: 1.2247... Val Loss: 1.2815\n",
            "Epoch: 20/20... Step: 2690... Loss: 1.2358... Val Loss: 1.3009\n",
            "Epoch: 20/20... Step: 2700... Loss: 1.2320... Val Loss: 1.2839\n",
            "Epoch: 20/20... Step: 2710... Loss: 1.2027... Val Loss: 1.2834\n",
            "Epoch: 20/20... Step: 2720... Loss: 1.2053... Val Loss: 1.2817\n",
            "Epoch: 20/20... Step: 2730... Loss: 1.1928... Val Loss: 1.2789\n",
            "Epoch: 20/20... Step: 2740... Loss: 1.1980... Val Loss: 1.2744\n",
            "Epoch: 20/20... Step: 2750... Loss: 1.2034... Val Loss: 1.2794\n",
            "Epoch: 20/20... Step: 2760... Loss: 1.2047... Val Loss: 1.2794\n",
            "Epoch: 20/20... Step: 2770... Loss: 1.2465... Val Loss: 1.2767\n",
            "Epoch: 20/20... Step: 2780... Loss: 1.2440... Val Loss: 1.2769\n"
          ],
          "name": "stdout"
        }
      ]
    },
    {
      "cell_type": "markdown",
      "metadata": {
        "id": "p9NP-9fEebj0",
        "colab_type": "text"
      },
      "source": [
        ""
      ]
    },
    {
      "cell_type": "markdown",
      "metadata": {
        "id": "CqhXs-65_FgH",
        "colab_type": "text"
      },
      "source": [
        "## Getting the best model\n",
        "\n",
        "To set your hyperparameters to get the best performance, you'll want to watch the training and validation losses. If your training loss is much lower than the validation loss, you're overfitting. Increase regularization (more dropout) or use a smaller network. If the training and validation losses are close, you're underfitting so you can increase the size of the network."
      ]
    },
    {
      "cell_type": "markdown",
      "metadata": {
        "id": "-eiDKECC_FgM",
        "colab_type": "text"
      },
      "source": [
        "## Hyperparameters\n",
        "\n",
        "Here are the hyperparameters for the network.\n",
        "\n",
        "In defining the model:\n",
        "* `n_hidden` - The number of units in the hidden layers.\n",
        "* `n_layers` - Number of hidden LSTM layers to use.\n",
        "\n",
        "We assume that dropout probability and learning rate will be kept at the default, in this example.\n",
        "\n",
        "And in training:\n",
        "* `batch_size` - Number of sequences running through the network in one pass.\n",
        "* `seq_length` - Number of characters in the sequence the network is trained on. Larger is better typically, the network will learn more long range dependencies. But it takes longer to train. 100 is typically a good number here.\n",
        "* `lr` - Learning rate for training\n",
        "\n",
        "Here's some good advice from Andrej Karpathy on training the network. I'm going to copy it in here for your benefit, but also link to [where it originally came from](https://github.com/karpathy/char-rnn#tips-and-tricks).\n",
        "\n",
        "> ## Tips and Tricks\n",
        "\n",
        ">### Monitoring Validation Loss vs. Training Loss\n",
        ">If you're somewhat new to Machine Learning or Neural Networks it can take a bit of expertise to get good models. The most important quantity to keep track of is the difference between your training loss (printed during training) and the validation loss (printed once in a while when the RNN is run on the validation data (by default every 1000 iterations)). In particular:\n",
        "\n",
        "> - If your training loss is much lower than validation loss then this means the network might be **overfitting**. Solutions to this are to decrease your network size, or to increase dropout. For example you could try dropout of 0.5 and so on.\n",
        "> - If your training/validation loss are about equal then your model is **underfitting**. Increase the size of your model (either number of layers or the raw number of neurons per layer)\n",
        "\n",
        "> ### Approximate number of parameters\n",
        "\n",
        "> The two most important parameters that control the model are `n_hidden` and `n_layers`. I would advise that you always use `n_layers` of either 2/3. The `n_hidden` can be adjusted based on how much data you have. The two important quantities to keep track of here are:\n",
        "\n",
        "> - The number of parameters in your model. This is printed when you start training.\n",
        "> - The size of your dataset. 1MB file is approximately 1 million characters.\n",
        "\n",
        ">These two should be about the same order of magnitude. It's a little tricky to tell. Here are some examples:\n",
        "\n",
        "> - I have a 100MB dataset and I'm using the default parameter settings (which currently print 150K parameters). My data size is significantly larger (100 mil >> 0.15 mil), so I expect to heavily underfit. I am thinking I can comfortably afford to make `n_hidden` larger.\n",
        "> - I have a 10MB dataset and running a 10 million parameter model. I'm slightly nervous and I'm carefully monitoring my validation loss. If it's larger than my training loss then I may want to try to increase dropout a bit and see if that helps the validation loss.\n",
        "\n",
        "> ### Best models strategy\n",
        "\n",
        ">The winning strategy to obtaining very good models (if you have the compute time) is to always err on making the network larger (as large as you're willing to wait for it to compute) and then try different dropout values (between 0,1). Whatever model has the best validation performance (the loss, written in the checkpoint filename, low is good) is the one you should use in the end.\n",
        "\n",
        ">It is very common in deep learning to run many different models with many different hyperparameter settings, and in the end take whatever checkpoint gave the best validation performance.\n",
        "\n",
        ">By the way, the size of your training and validation splits are also parameters. Make sure you have a decent amount of data in your validation set or otherwise the validation performance will be noisy and not very informative."
      ]
    },
    {
      "cell_type": "markdown",
      "metadata": {
        "id": "2dxF7G4E_FgQ",
        "colab_type": "text"
      },
      "source": [
        "## Checkpoint\n",
        "\n",
        "After training, we'll save the model so we can load it again later if we need too. Here I'm saving the parameters needed to create the same architecture, the hidden layer hyperparameters and the text characters."
      ]
    },
    {
      "cell_type": "code",
      "metadata": {
        "id": "eVokxAiT_FgT",
        "colab_type": "code",
        "colab": {}
      },
      "source": [
        "# change the name, for saving multiple files\n",
        "model_name = 'rnn_x_epoch.net'\n",
        "\n",
        "checkpoint = {'n_hidden': net.n_hidden,\n",
        "              'n_layers': net.n_layers,\n",
        "              'state_dict': net.state_dict(),\n",
        "              'tokens': net.chars}\n",
        "\n",
        "with open(model_name, 'wb') as f:\n",
        "    torch.save(checkpoint, f)"
      ],
      "execution_count": 0,
      "outputs": []
    },
    {
      "cell_type": "markdown",
      "metadata": {
        "id": "YTdiLIwN_Fgf",
        "colab_type": "text"
      },
      "source": [
        "---\n",
        "## Making Predictions\n",
        "\n",
        "Now that the model is trained, we'll want to sample from it and make predictions about next characters! To sample, we pass in a character and have the network predict the next character. Then we take that character, pass it back in, and get another predicted character. Just keep doing this and you'll generate a bunch of text!\n",
        "\n",
        "### A note on the `predict`  function\n",
        "\n",
        "The output of our RNN is from a fully-connected layer and it outputs a **distribution of next-character scores**.\n",
        "\n",
        "> To actually get the next character, we apply a softmax function, which gives us a *probability* distribution that we can then sample to predict the next character.\n",
        "\n",
        "### Top K sampling\n",
        "\n",
        "Our predictions come from a categorical probability distribution over all the possible characters. We can make the sample text and make it more reasonable to handle (with less variables) by only considering some $K$ most probable characters. This will prevent the network from giving us completely absurd characters while allowing it to introduce some noise and randomness into the sampled text. Read more about [topk, here](https://pytorch.org/docs/stable/torch.html#torch.topk).\n"
      ]
    },
    {
      "cell_type": "code",
      "metadata": {
        "id": "A2RP6L3o_Fgh",
        "colab_type": "code",
        "colab": {}
      },
      "source": [
        "def predict(net, char, h=None, top_k=None):\n",
        "        ''' Given a character, predict the next character.\n",
        "            Returns the predicted character and the hidden state.\n",
        "        '''\n",
        "        \n",
        "        # tensor inputs\n",
        "        x = np.array([[net.char2int[char]]])\n",
        "        x = one_hot_encode(x, len(net.chars))\n",
        "        inputs = torch.from_numpy(x)\n",
        "        \n",
        "        if(train_on_gpu):\n",
        "            inputs = inputs.cuda()\n",
        "        \n",
        "        # detach hidden state from history\n",
        "        h = tuple([each.data for each in h])\n",
        "        # get the output of the model\n",
        "        out, h = net(inputs, h)\n",
        "\n",
        "        # get the character probabilities\n",
        "        p = F.softmax(out, dim=1).data\n",
        "        if(train_on_gpu):\n",
        "            p = p.cpu() # move to cpu\n",
        "        \n",
        "        # get top characters\n",
        "        if top_k is None:\n",
        "            top_ch = np.arange(len(net.chars))\n",
        "        else:\n",
        "            p, top_ch = p.topk(top_k)\n",
        "            top_ch = top_ch.numpy().squeeze()\n",
        "        \n",
        "        # select the likely next character with some element of randomness\n",
        "        p = p.numpy().squeeze()\n",
        "        char = np.random.choice(top_ch, p=p/p.sum())\n",
        "        \n",
        "        # return the encoded value of the predicted char and the hidden state\n",
        "        return net.int2char[char], h"
      ],
      "execution_count": 0,
      "outputs": []
    },
    {
      "cell_type": "markdown",
      "metadata": {
        "id": "YRxs52qy_Fgy",
        "colab_type": "text"
      },
      "source": [
        "### Priming and generating text \n",
        "\n",
        "Typically you'll want to prime the network so you can build up a hidden state. Otherwise the network will start out generating characters at random. In general the first bunch of characters will be a little rough since it hasn't built up a long history of characters to predict from."
      ]
    },
    {
      "cell_type": "code",
      "metadata": {
        "id": "ORncEL-Q_Fg1",
        "colab_type": "code",
        "colab": {}
      },
      "source": [
        "def sample(net, size, prime='The', top_k=None):\n",
        "        \n",
        "    if(train_on_gpu):\n",
        "        net.cuda()\n",
        "    else:\n",
        "        net.cpu()\n",
        "    \n",
        "    net.eval() # eval mode\n",
        "    \n",
        "    # First off, run through the prime characters\n",
        "    chars = [ch for ch in prime]\n",
        "    h = net.init_hidden(1)\n",
        "    for ch in prime:\n",
        "        char, h = predict(net, ch, h, top_k=top_k)\n",
        "\n",
        "    chars.append(char)\n",
        "    \n",
        "    # Now pass in the previous character and get a new one\n",
        "    for ii in range(size):\n",
        "        char, h = predict(net, chars[-1], h, top_k=top_k)\n",
        "        chars.append(char)\n",
        "\n",
        "    return ''.join(chars)"
      ],
      "execution_count": 0,
      "outputs": []
    },
    {
      "cell_type": "code",
      "metadata": {
        "id": "Ir8m6m8O_Fg9",
        "colab_type": "code",
        "colab": {
          "base_uri": "https://localhost:8080/",
          "height": 451
        },
        "outputId": "5dd2eb39-3b00-4a29-e7df-69f11522f74b"
      },
      "source": [
        "print(sample(net, 1000, prime='Hou', top_k=5))"
      ],
      "execution_count": 93,
      "outputs": [
        {
          "output_type": "stream",
          "text": [
            "Housed, and\n",
            "a short shoulder so much than ever as he could not be seen this.\n",
            "\n",
            "\"The sister starts. As it is transluse. And she was in home to support\n",
            "them. I shall not spect in the sould of a sort of things, thinking that\n",
            "here are mile before things on the satisfaction in a court in the forch of\n",
            "more and son, and there, and thene's a fellow, and hell you what were\n",
            "not a province that he had suffering with a faithford, but there is standing it\n",
            "of into the face.\"\n",
            "\n",
            "\"What is you, there are yours to three.\" And sat down at the\n",
            "most persons of sense of a stick still story and the case.\n",
            "\n",
            "\"Well, I would have\n",
            "said so, that's the particular sones, and I shall be so many other\n",
            "poor, beer so to the carriage of there would say to him.\n",
            "We shake hard and making her.\"\n",
            "\n",
            "\"Why does not be self-difficult and the figure on the point.\"\n",
            "\n",
            "And sevented the coundess and she did not care to be angry, as the\n",
            "children was a side, but if he suddenly discased the side of her thoughts\n",
            "along what had trushed.\n",
            "\n",
            "\"I've seen h\n"
          ],
          "name": "stdout"
        }
      ]
    },
    {
      "cell_type": "markdown",
      "metadata": {
        "id": "fa8BcSha_FhF",
        "colab_type": "text"
      },
      "source": [
        "## Loading a checkpoint"
      ]
    },
    {
      "cell_type": "code",
      "metadata": {
        "id": "CETikPT1_FhJ",
        "colab_type": "code",
        "colab": {
          "base_uri": "https://localhost:8080/",
          "height": 34
        },
        "outputId": "3954d240-4abc-40d5-c846-26d854703dcf"
      },
      "source": [
        "# Here we have loaded in a model that trained over 20 epochs `rnn_20_epoch.net`\n",
        "with open('rnn_x_epoch.net', 'rb') as f:\n",
        "    checkpoint = torch.load(f)\n",
        "    \n",
        "loaded = CharRNN(checkpoint['tokens'], n_hidden=checkpoint['n_hidden'], n_layers=checkpoint['n_layers'])\n",
        "loaded.load_state_dict(checkpoint['state_dict'])"
      ],
      "execution_count": 94,
      "outputs": [
        {
          "output_type": "execute_result",
          "data": {
            "text/plain": [
              "IncompatibleKeys(missing_keys=[], unexpected_keys=[])"
            ]
          },
          "metadata": {
            "tags": []
          },
          "execution_count": 94
        }
      ]
    },
    {
      "cell_type": "code",
      "metadata": {
        "id": "cEoNeTCk_FhU",
        "colab_type": "code",
        "colab": {
          "base_uri": "https://localhost:8080/",
          "height": 764
        },
        "outputId": "860429e0-986a-43b8-8f61-971637c73978"
      },
      "source": [
        "# Sample using a loaded model\n",
        "print(sample(loaded, 2000, top_k=5, prime=\"hou\"))"
      ],
      "execution_count": 98,
      "outputs": [
        {
          "output_type": "stream",
          "text": [
            "housh of\n",
            "the services of her hands along the morning, his coat. The same.\n",
            "\n",
            "\"Well, wait away in you,\" said Stepan Arkadyevitch, \"that I should\n",
            "be a country time and the same woman,\" said Levin, \"but what is to be in the\n",
            "first politicular estate for me,\" she said, said nothing; but he\n",
            "came to his honor. She struggled her his, and to tree of the steps,\n",
            "he felt that there was a man who had been such a sort of his. He\n",
            "went out, and\n",
            "however her strange crack of the country was so train for\n",
            "a merchant of that minute, bus he was all a long while and and so as to\n",
            "say and had not thanks to him. He saw her sincere, he was simply sat alone.\n",
            "\n",
            "\"Well, what is it to be as to but. And I we to do,\" said Sergey Ivanovitch with\n",
            "taking her face that is something seen in his head, \"they\n",
            "say.\n",
            "\n",
            "\"I have so taken this, and halk so many for her, the children was that\n",
            "those things in the fingers as so much in the condetion of their peasants. And\n",
            "she did not sponk it ounded on them.\"\n",
            "\n",
            "The proposed construction was standing at the fine of the setting the\n",
            "best. And he had been taken up and sat for some dont with a creak\n",
            "who was standing for a letter's ares and as to be and was standing for\n",
            "him. He saw is the patient and waiting on his brother, the still conversation\n",
            "he had been as a crowd as to see that his brother was a short of conversation\n",
            "in the secuse at the stable of his cape, he could not be satisting\n",
            "a letter of such a mere stained figure of the fact and difficulties.\n",
            "Aften nothing to see her. She was true for the children, when she wanted\n",
            "to say. He went out of the matter in the pretty way of his sister.\n",
            "\n",
            "\"What do you tell you alone!\"\n",
            "\n",
            "\"Yes, you know what to despore them of your children.\"\n",
            "\n",
            "Stepan Arkadyevitch had study them into a four of surpise with the same\n",
            "sense of teres, and so tears that he was not sitting of a faith at the\n",
            "sinking of there to speak of the cappacian of that side.\n",
            "\n",
            "Alexey Alexandrovitch went out of to his brithers, and he went out on his\n",
            "feeling of hos his wife.\n",
            "\n",
            "He sa\n"
          ],
          "name": "stdout"
        }
      ]
    },
    {
      "cell_type": "code",
      "metadata": {
        "id": "iWTgxuKL_Fhb",
        "colab_type": "code",
        "colab": {}
      },
      "source": [
        ""
      ],
      "execution_count": 0,
      "outputs": []
    }
  ]
}